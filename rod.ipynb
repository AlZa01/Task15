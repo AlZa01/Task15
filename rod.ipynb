{
 "cells": [
  {
   "cell_type": "code",
   "execution_count": 1,
   "id": "ddefc00c-45f9-4008-8a32-c450e8b6c601",
   "metadata": {
    "tags": []
   },
   "outputs": [
    {
     "name": "stdout",
     "output_type": "stream",
     "text": [
      "Maximum obtainable value: 22\n",
      "Recommended lengths for cuts: [6, 2]\n"
     ]
    }
   ],
   "source": [
    "def cut_rod(length, prices):\n",
    "    \"\"\"\n",
    "    Determines the maximum value obtainable by cutting up the rod and selling the pieces.\n",
    "\n",
    "    Args:\n",
    "        length: The length of the rod in inches.\n",
    "        prices: An array of prices for all pieces of size smaller than n.\n",
    "\n",
    "    Returns:\n",
    "        The maximum obtainable price\n",
    "        A list of recommended lengths to cut the rod into\n",
    "    \"\"\"\n",
    "\n",
    "    max_val = [0] * (length + 1) # Creating a list to store the maximum value there for each length; initially, all values are set to 0\n",
    "    cut_points = [0] * (length + 1) # Creating a list to store the cut points there for each length; initially, all values are set to 0\n",
    "\n",
    "    for i in range(1, length + 1): # Iterating over all possible rod length\n",
    "        # Identifying the maximum value and cut point for the current length\n",
    "        max_value = prices[i - 1] # Assuming selling single piece gives max value\n",
    "        cut_point = i # Assuming no cuts are needed; the rod is sold as one piece\n",
    "\n",
    "        # Iterating over all possible cut points j for the current rod length i and updating the max value and cut points\n",
    "        for j in range(1, i):\n",
    "            value = prices[j - 1] + max_val[i - j] # Calculating the value of cutting the rod at the current point j;\n",
    "            # price of the piece of length j plus the maximum value that can be obtained from the remaining piece of length i - j \n",
    "           \n",
    "            # Updating the max value and cut point if necessary\n",
    "            if value > max_value:\n",
    "                max_value = value\n",
    "                cut_point = j # Tracking the cut point that gives max value\n",
    "                \n",
    "        # Storing the max value and cut point\n",
    "        max_val[i] = max_value\n",
    "        cut_points[i] = cut_point\n",
    "\n",
    "    # Reconstructing the cut lengths from the cut points\n",
    "    cut_lengths = [] # Creating an empty list to store the recommended cut length\n",
    "    i = length # Setting i to the original rod length\n",
    "    while i > 0: # Iterating as long as there is remaining rod length to cut\n",
    "        cut_lengths.append(cut_points[i]) # Appending the cut point for the current length i to the list\n",
    "        i -= cut_points[i] # Moving to the remaining length after the cut by updating i\n",
    "\n",
    "    # Returning the max value and cuts in order (the cuts were added to the list in reverse order)\n",
    "    return max_val[length], cut_lengths[::-1]\n",
    "\n",
    "# Example usage:\n",
    "length = 8\n",
    "prices = [1, 5, 8, 9, 10, 17, 17, 20]\n",
    "max_price, recommended_lengths = cut_rod(length, prices)\n",
    "print(\"Maximum obtainable value: \"+str(max_price))\n",
    "print(\"Recommended lengths for cuts: \"+str(recommended_lengths))"
   ]
  }
 ],
 "metadata": {
  "kernelspec": {
   "display_name": "Python 3 (ipykernel)",
   "language": "python",
   "name": "python3"
  },
  "language_info": {
   "codemirror_mode": {
    "name": "ipython",
    "version": 3
   },
   "file_extension": ".py",
   "mimetype": "text/x-python",
   "name": "python",
   "nbconvert_exporter": "python",
   "pygments_lexer": "ipython3",
   "version": "3.10.9"
  }
 },
 "nbformat": 4,
 "nbformat_minor": 5
}
